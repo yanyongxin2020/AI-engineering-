{
 "cells": [
  {
   "cell_type": "markdown",
   "id": "6aaf702a",
   "metadata": {},
   "source": [
    "# 研究背景、研究目的、研究意义"
   ]
  },
  {
   "cell_type": "markdown",
   "id": "50086009",
   "metadata": {},
   "source": [
    "## 根据模式识别指导思想，训练一个能够对中枢神经系统疾病进行监控的AI模型。"
   ]
  },
  {
   "cell_type": "markdown",
   "id": "21abbcc3",
   "metadata": {},
   "source": [
    "    人工智能的核心工作内容，是通过对相关领域的内容进行研究，分析待解决的问题，并利用该类问题的相关数据，完成对该类问题的建模。一旦完成对该类问题的建模，那么原本需要由人来完成的该类工作，就可以完全交由机器完成，这使得人的大脑资源被解放出来，为其去完成更高的智能体工作提供资源上的可能性。\n",
    "    在本研究中，通过理论分析和工程实践。完成一个原本需要多年训练才能诊断出脑疾病的“神经外科医生脑”的工作。"
   ]
  },
  {
   "cell_type": "markdown",
   "id": "791e29d0",
   "metadata": {},
   "source": [
    "    “神经外科医生脑”的一项重要工作内容就是进行常见脑疾病的诊断。\n",
    "    癫痫，即俗称“羊癫风”，是由多种病因引起的慢性脑功能障碍综合症，是仅次于脑血管病的第二大脑部疾病。癫痫发作的直接原因是脑部神经元反复地突发性过度放电所导致的间歇性中枢神经系统功能失调。临床上常表现为突然意识丧失、全身抽搐以及精神异常等。癫痫给患者带来巨大的痛苦和身心伤害，严重时甚至危及生命，儿童患者会影响到身体发育和智力发育。\n",
    "    “神经外科医生脑”通过视觉系统观察，利用脑电图数据，在脑中完成特征的提取和选择、分类决策后，完成对癫痫的诊断。这是其在脑中完成的一套工作流程模式。但是该“神经外科医生脑”在完成癫痫的诊断工作时，存在一系列问题：包括耗时长、人为诊断的主观性、不同知识能力经验能力层次的“神经外科医生脑”往往存在同一患者不同诊断结果的误判问题。更重要的是，众所周知的医生培养周期时间十分漫长、而学习难度及其大中枢神经科医生的培养更是十分困难。\n",
    "    因此，利用受人模式识别能力启发的模式识别技术，通过脑电图数据，训练一个“神经外科医生脑”，及时、准确地检测脑疾病是十分有必要且迫切关注科学和工程问题。"
   ]
  },
  {
   "cell_type": "markdown",
   "id": "9da1f6c1",
   "metadata": {},
   "source": [
    "#  研究技术路线 、总体框架"
   ]
  },
  {
   "cell_type": "markdown",
   "id": "e65256c8",
   "metadata": {},
   "source": [
    "## 加载、利用相关库函数"
   ]
  },
  {
   "cell_type": "code",
   "execution_count": 18,
   "id": "0d364e55",
   "metadata": {},
   "outputs": [],
   "source": [
    "from keras.models import Sequential\n",
    "from keras.layers import Dense, Dropout, Activation\n",
    "from keras.layers import Embedding\n",
    "from keras.layers import SimpleRNN, LSTM, GRU\n",
    "from keras.optimizers import SGD, Nadam, Adam, RMSprop\n",
    "from keras.callbacks import TensorBoard\n",
    "from keras.utils import np_utils\n",
    "import scipy.io \n",
    "import numpy as np\n",
    "import pandas as pd\n",
    "from sklearn.model_selection import train_test_split \n",
    "from sklearn.metrics import roc_curve, auc\n",
    "import matplotlib.pyplot as plt\n",
    "\"\"\"\n",
    "第一步：导入数据\n",
    "\"\"\"\n",
    "# print('第一步：加载数据')\n",
    "# 加载数据集\n",
    "\n",
    "data = \"F:\\BCI Competition II\\data.csv\"\n",
    "# define paremeter data.\n",
    "df = pd.read_csv(data, header=0, index_col=0)\n",
    "# define paremeter df.\n",
    "# use:pd.read_csv function to solve data load problem. \n",
    "# data变量为预加载数据集的文件路径"
   ]
  },
  {
   "cell_type": "markdown",
   "id": "ab518a8c",
   "metadata": {},
   "source": [
    "## 查看数据集以及数据的相关信息"
   ]
  },
  {
   "cell_type": "markdown",
   "id": "9ece124e",
   "metadata": {},
   "source": [
    "    波恩大学癫痫数据集：\n",
    "    \n",
    "    178个数据点（X1-X178)的11,500个样本（178个数据点= 1秒的脑电图记录）\n",
    "    \n",
    "    11,500个具有5个类别的目标：\n",
    "    \n",
    "    1个代表癫痫发作波形(癫痫模式波形）;\n",
    "    而2-5代表非癫痫发作波形.\n",
    "    \n",
    "    at the last column,y value = 1,it needs target by human."
   ]
  },
  {
   "cell_type": "code",
   "execution_count": 19,
   "id": "64fcc120",
   "metadata": {},
   "outputs": [
    {
     "data": {
      "text/html": [
       "<div>\n",
       "<style scoped>\n",
       "    .dataframe tbody tr th:only-of-type {\n",
       "        vertical-align: middle;\n",
       "    }\n",
       "\n",
       "    .dataframe tbody tr th {\n",
       "        vertical-align: top;\n",
       "    }\n",
       "\n",
       "    .dataframe thead th {\n",
       "        text-align: right;\n",
       "    }\n",
       "</style>\n",
       "<table border=\"1\" class=\"dataframe\">\n",
       "  <thead>\n",
       "    <tr style=\"text-align: right;\">\n",
       "      <th></th>\n",
       "      <th>X1</th>\n",
       "      <th>X2</th>\n",
       "      <th>X3</th>\n",
       "      <th>X4</th>\n",
       "      <th>X5</th>\n",
       "      <th>X6</th>\n",
       "      <th>X7</th>\n",
       "      <th>X8</th>\n",
       "      <th>X9</th>\n",
       "      <th>X10</th>\n",
       "      <th>...</th>\n",
       "      <th>X170</th>\n",
       "      <th>X171</th>\n",
       "      <th>X172</th>\n",
       "      <th>X173</th>\n",
       "      <th>X174</th>\n",
       "      <th>X175</th>\n",
       "      <th>X176</th>\n",
       "      <th>X177</th>\n",
       "      <th>X178</th>\n",
       "      <th>y</th>\n",
       "    </tr>\n",
       "  </thead>\n",
       "  <tbody>\n",
       "    <tr>\n",
       "      <th>X21.V1.791</th>\n",
       "      <td>135</td>\n",
       "      <td>190</td>\n",
       "      <td>229</td>\n",
       "      <td>223</td>\n",
       "      <td>192</td>\n",
       "      <td>125</td>\n",
       "      <td>55</td>\n",
       "      <td>-9</td>\n",
       "      <td>-33</td>\n",
       "      <td>-38</td>\n",
       "      <td>...</td>\n",
       "      <td>-17</td>\n",
       "      <td>-15</td>\n",
       "      <td>-31</td>\n",
       "      <td>-77</td>\n",
       "      <td>-103</td>\n",
       "      <td>-127</td>\n",
       "      <td>-116</td>\n",
       "      <td>-83</td>\n",
       "      <td>-51</td>\n",
       "      <td>4</td>\n",
       "    </tr>\n",
       "    <tr>\n",
       "      <th>X15.V1.924</th>\n",
       "      <td>386</td>\n",
       "      <td>382</td>\n",
       "      <td>356</td>\n",
       "      <td>331</td>\n",
       "      <td>320</td>\n",
       "      <td>315</td>\n",
       "      <td>307</td>\n",
       "      <td>272</td>\n",
       "      <td>244</td>\n",
       "      <td>232</td>\n",
       "      <td>...</td>\n",
       "      <td>164</td>\n",
       "      <td>150</td>\n",
       "      <td>146</td>\n",
       "      <td>152</td>\n",
       "      <td>157</td>\n",
       "      <td>156</td>\n",
       "      <td>154</td>\n",
       "      <td>143</td>\n",
       "      <td>129</td>\n",
       "      <td>1</td>\n",
       "    </tr>\n",
       "    <tr>\n",
       "      <th>X8.V1.1</th>\n",
       "      <td>-32</td>\n",
       "      <td>-39</td>\n",
       "      <td>-47</td>\n",
       "      <td>-37</td>\n",
       "      <td>-32</td>\n",
       "      <td>-36</td>\n",
       "      <td>-57</td>\n",
       "      <td>-73</td>\n",
       "      <td>-85</td>\n",
       "      <td>-94</td>\n",
       "      <td>...</td>\n",
       "      <td>57</td>\n",
       "      <td>64</td>\n",
       "      <td>48</td>\n",
       "      <td>19</td>\n",
       "      <td>-12</td>\n",
       "      <td>-30</td>\n",
       "      <td>-35</td>\n",
       "      <td>-35</td>\n",
       "      <td>-36</td>\n",
       "      <td>5</td>\n",
       "    </tr>\n",
       "    <tr>\n",
       "      <th>X16.V1.60</th>\n",
       "      <td>-105</td>\n",
       "      <td>-101</td>\n",
       "      <td>-96</td>\n",
       "      <td>-92</td>\n",
       "      <td>-89</td>\n",
       "      <td>-95</td>\n",
       "      <td>-102</td>\n",
       "      <td>-100</td>\n",
       "      <td>-87</td>\n",
       "      <td>-79</td>\n",
       "      <td>...</td>\n",
       "      <td>-82</td>\n",
       "      <td>-81</td>\n",
       "      <td>-80</td>\n",
       "      <td>-77</td>\n",
       "      <td>-85</td>\n",
       "      <td>-77</td>\n",
       "      <td>-72</td>\n",
       "      <td>-69</td>\n",
       "      <td>-65</td>\n",
       "      <td>5</td>\n",
       "    </tr>\n",
       "    <tr>\n",
       "      <th>X20.V1.54</th>\n",
       "      <td>-9</td>\n",
       "      <td>-65</td>\n",
       "      <td>-98</td>\n",
       "      <td>-102</td>\n",
       "      <td>-78</td>\n",
       "      <td>-48</td>\n",
       "      <td>-16</td>\n",
       "      <td>0</td>\n",
       "      <td>-21</td>\n",
       "      <td>-59</td>\n",
       "      <td>...</td>\n",
       "      <td>4</td>\n",
       "      <td>2</td>\n",
       "      <td>-12</td>\n",
       "      <td>-32</td>\n",
       "      <td>-41</td>\n",
       "      <td>-65</td>\n",
       "      <td>-83</td>\n",
       "      <td>-89</td>\n",
       "      <td>-73</td>\n",
       "      <td>5</td>\n",
       "    </tr>\n",
       "    <tr>\n",
       "      <th>X14.V1.56</th>\n",
       "      <td>55</td>\n",
       "      <td>28</td>\n",
       "      <td>18</td>\n",
       "      <td>16</td>\n",
       "      <td>16</td>\n",
       "      <td>19</td>\n",
       "      <td>25</td>\n",
       "      <td>40</td>\n",
       "      <td>52</td>\n",
       "      <td>66</td>\n",
       "      <td>...</td>\n",
       "      <td>-12</td>\n",
       "      <td>-31</td>\n",
       "      <td>-42</td>\n",
       "      <td>-54</td>\n",
       "      <td>-60</td>\n",
       "      <td>-64</td>\n",
       "      <td>-60</td>\n",
       "      <td>-56</td>\n",
       "      <td>-55</td>\n",
       "      <td>5</td>\n",
       "    </tr>\n",
       "    <tr>\n",
       "      <th>X3.V1.191</th>\n",
       "      <td>-55</td>\n",
       "      <td>-9</td>\n",
       "      <td>52</td>\n",
       "      <td>111</td>\n",
       "      <td>135</td>\n",
       "      <td>129</td>\n",
       "      <td>103</td>\n",
       "      <td>72</td>\n",
       "      <td>37</td>\n",
       "      <td>0</td>\n",
       "      <td>...</td>\n",
       "      <td>-125</td>\n",
       "      <td>-99</td>\n",
       "      <td>-79</td>\n",
       "      <td>-62</td>\n",
       "      <td>-41</td>\n",
       "      <td>-26</td>\n",
       "      <td>11</td>\n",
       "      <td>67</td>\n",
       "      <td>128</td>\n",
       "      <td>4</td>\n",
       "    </tr>\n",
       "    <tr>\n",
       "      <th>X11.V1.273</th>\n",
       "      <td>1</td>\n",
       "      <td>-2</td>\n",
       "      <td>-8</td>\n",
       "      <td>-11</td>\n",
       "      <td>-12</td>\n",
       "      <td>-17</td>\n",
       "      <td>-15</td>\n",
       "      <td>-16</td>\n",
       "      <td>-18</td>\n",
       "      <td>-17</td>\n",
       "      <td>...</td>\n",
       "      <td>-79</td>\n",
       "      <td>-91</td>\n",
       "      <td>-97</td>\n",
       "      <td>-88</td>\n",
       "      <td>-76</td>\n",
       "      <td>-72</td>\n",
       "      <td>-66</td>\n",
       "      <td>-57</td>\n",
       "      <td>-39</td>\n",
       "      <td>2</td>\n",
       "    </tr>\n",
       "    <tr>\n",
       "      <th>X19.V1.874</th>\n",
       "      <td>-278</td>\n",
       "      <td>-246</td>\n",
       "      <td>-215</td>\n",
       "      <td>-191</td>\n",
       "      <td>-177</td>\n",
       "      <td>-167</td>\n",
       "      <td>-157</td>\n",
       "      <td>-139</td>\n",
       "      <td>-118</td>\n",
       "      <td>-92</td>\n",
       "      <td>...</td>\n",
       "      <td>-400</td>\n",
       "      <td>-379</td>\n",
       "      <td>-336</td>\n",
       "      <td>-281</td>\n",
       "      <td>-226</td>\n",
       "      <td>-174</td>\n",
       "      <td>-125</td>\n",
       "      <td>-79</td>\n",
       "      <td>-40</td>\n",
       "      <td>1</td>\n",
       "    </tr>\n",
       "    <tr>\n",
       "      <th>X3.V1.491</th>\n",
       "      <td>8</td>\n",
       "      <td>15</td>\n",
       "      <td>13</td>\n",
       "      <td>3</td>\n",
       "      <td>-6</td>\n",
       "      <td>-8</td>\n",
       "      <td>-5</td>\n",
       "      <td>4</td>\n",
       "      <td>25</td>\n",
       "      <td>41</td>\n",
       "      <td>...</td>\n",
       "      <td>49</td>\n",
       "      <td>31</td>\n",
       "      <td>11</td>\n",
       "      <td>-5</td>\n",
       "      <td>-17</td>\n",
       "      <td>-19</td>\n",
       "      <td>-15</td>\n",
       "      <td>-15</td>\n",
       "      <td>-11</td>\n",
       "      <td>4</td>\n",
       "    </tr>\n",
       "  </tbody>\n",
       "</table>\n",
       "<p>10 rows × 179 columns</p>\n",
       "</div>"
      ],
      "text/plain": [
       "             X1   X2   X3   X4   X5   X6   X7   X8   X9  X10  ...  X170  X171  \\\n",
       "X21.V1.791  135  190  229  223  192  125   55   -9  -33  -38  ...   -17   -15   \n",
       "X15.V1.924  386  382  356  331  320  315  307  272  244  232  ...   164   150   \n",
       "X8.V1.1     -32  -39  -47  -37  -32  -36  -57  -73  -85  -94  ...    57    64   \n",
       "X16.V1.60  -105 -101  -96  -92  -89  -95 -102 -100  -87  -79  ...   -82   -81   \n",
       "X20.V1.54    -9  -65  -98 -102  -78  -48  -16    0  -21  -59  ...     4     2   \n",
       "X14.V1.56    55   28   18   16   16   19   25   40   52   66  ...   -12   -31   \n",
       "X3.V1.191   -55   -9   52  111  135  129  103   72   37    0  ...  -125   -99   \n",
       "X11.V1.273    1   -2   -8  -11  -12  -17  -15  -16  -18  -17  ...   -79   -91   \n",
       "X19.V1.874 -278 -246 -215 -191 -177 -167 -157 -139 -118  -92  ...  -400  -379   \n",
       "X3.V1.491     8   15   13    3   -6   -8   -5    4   25   41  ...    49    31   \n",
       "\n",
       "            X172  X173  X174  X175  X176  X177  X178  y  \n",
       "X21.V1.791   -31   -77  -103  -127  -116   -83   -51  4  \n",
       "X15.V1.924   146   152   157   156   154   143   129  1  \n",
       "X8.V1.1       48    19   -12   -30   -35   -35   -36  5  \n",
       "X16.V1.60    -80   -77   -85   -77   -72   -69   -65  5  \n",
       "X20.V1.54    -12   -32   -41   -65   -83   -89   -73  5  \n",
       "X14.V1.56    -42   -54   -60   -64   -60   -56   -55  5  \n",
       "X3.V1.191    -79   -62   -41   -26    11    67   128  4  \n",
       "X11.V1.273   -97   -88   -76   -72   -66   -57   -39  2  \n",
       "X19.V1.874  -336  -281  -226  -174  -125   -79   -40  1  \n",
       "X3.V1.491     11    -5   -17   -19   -15   -15   -11  4  \n",
       "\n",
       "[10 rows x 179 columns]"
      ]
     },
     "execution_count": 19,
     "metadata": {},
     "output_type": "execute_result"
    }
   ],
   "source": [
    "\"\"\"\n",
    "查看数据集的head和信息\n",
    "\"\"\"\n",
    "df.head(n=10)\n",
    "# paremeter inital n = 5\n",
    "# the function will show n rows data."
   ]
  },
  {
   "cell_type": "code",
   "execution_count": 9,
   "id": "2c924e02",
   "metadata": {},
   "outputs": [
    {
     "name": "stdout",
     "output_type": "stream",
     "text": [
      "<class 'pandas.core.frame.DataFrame'>\n",
      "Index: 11500 entries, X21.V1.791 to X16.V1.210\n",
      "Columns: 179 entries, X1 to y\n",
      "dtypes: int64(179)\n",
      "memory usage: 15.8+ MB\n"
     ]
    }
   ],
   "source": [
    "df.info()"
   ]
  },
  {
   "cell_type": "markdown",
   "id": "6ea0ace5",
   "metadata": {},
   "source": [
    "## 将.csv格式的数据集利用plt（）函数还原为可视化的脑电波波形图图像"
   ]
  },
  {
   "cell_type": "code",
   "execution_count": 20,
   "id": "03a7486d",
   "metadata": {
    "scrolled": true
   },
   "outputs": [
    {
     "data": {
      "image/png": "[encoded data removed]",
      "text/plain": [
       "<Figure size 432x288 with 1 Axes>"
      ]
     },
     "metadata": {
      "needs_background": "light"
     },
     "output_type": "display_data"
    }
   ],
   "source": [
    "#绘制并观察脑电波\n",
    "plt.plot(range(178), df.iloc[11496,0:178]) \n",
    "plt.show()"
   ]
  },
  {
   "cell_type": "code",
   "execution_count": 21,
   "id": "0690451f",
   "metadata": {
    "scrolled": true
   },
   "outputs": [
    {
     "data": {
      "image/png": "[encoded data removed]",
      "text/plain": [
       "<Figure size 432x288 with 1 Axes>"
      ]
     },
     "metadata": {
      "needs_background": "light"
     },
     "output_type": "display_data"
    }
   ],
   "source": [
    "#绘制并观察脑电波\n",
    "plt.plot(range(178), df.iloc[11496,0:178])\n",
    "plt.plot(range(178), df.iloc[3,0:178]) \n",
    "plt.plot(range(178), df.iloc[134,0:178]) \n",
    "plt.plot(range(178), df.iloc[22,0:178]) \n",
    "plt.plot(range(178), df.iloc[777,0:178]) \n",
    "plt.show()"
   ]
  },
  {
   "cell_type": "markdown",
   "id": "2acbbf72",
   "metadata": {},
   "source": [
    "## 对数据集的再次预处理"
   ]
  },
  {
   "cell_type": "code",
   "execution_count": 22,
   "id": "52e3807f",
   "metadata": {},
   "outputs": [],
   "source": [
    "\n",
    "    \n",
    "    \n",
    "\"\"\"\n",
    "第一步：\n",
    "\n",
    "设置标签：\n",
    "将目标变量转换为癫痫(y列编码为1)与非癫痫(2-5)\n",
    "\n",
    "即将癫痫的目标变量设置为1，其他设置为标签0\n",
    "\n",
    "理解为癫痫模式与非癫痫模式的分类\n",
    "\"\"\"\n",
    "\n",
    "\n",
    "df[\"seizure\"] = 0 \n",
    "for i in range(11500): \n",
    "    if df[\"y\"][i] == 1: \n",
    "        df[\"seizure\"][i] = 1 \n",
    "    else:\n",
    "        df[\"seizure\"][i] = 0\n",
    "        \n",
    "\n"
   ]
  },
  {
   "cell_type": "markdown",
   "id": "bbc7e0be",
   "metadata": {},
   "source": [
    "## 利用lstm进行建模"
   ]
  },
  {
   "cell_type": "code",
   "execution_count": 23,
   "id": "d7fb7734",
   "metadata": {},
   "outputs": [
    {
     "name": "stdout",
     "output_type": "stream",
     "text": [
      "第三步：构建模型\n",
      "Model: \"sequential_2\"\n",
      "_________________________________________________________________\n",
      "Layer (type)                 Output Shape              Param #   \n",
      "=================================================================\n",
      "lstm_4 (LSTM)                (None, None, 10)          7560      \n",
      "_________________________________________________________________\n",
      "lstm_5 (LSTM)                (None, None, 10)          840       \n",
      "_________________________________________________________________\n",
      "lstm_6 (LSTM)                (None, 5)                 320       \n",
      "_________________________________________________________________\n",
      "dense_2 (Dense)              (None, 1)                 6         \n",
      "=================================================================\n",
      "Total params: 8,726\n",
      "Trainable params: 8,726\n",
      "Non-trainable params: 0\n",
      "_________________________________________________________________\n",
      "第四步：训练模型\n",
      "Train on 7360 samples, validate on 1840 samples\n",
      "Epoch 1/100\n",
      " - 1s - loss: 0.6681 - acc: 0.8011 - val_loss: 0.6443 - val_acc: 0.7793\n",
      "Epoch 2/100\n",
      " - 0s - loss: 0.6012 - acc: 0.8058 - val_loss: 0.5718 - val_acc: 0.7793\n",
      "Epoch 3/100\n",
      " - 0s - loss: 0.5139 - acc: 0.8058 - val_loss: 0.4979 - val_acc: 0.7793\n",
      "Epoch 4/100\n",
      " - 0s - loss: 0.4363 - acc: 0.8058 - val_loss: 0.4464 - val_acc: 0.7793\n",
      "Epoch 5/100\n",
      " - 0s - loss: 0.3809 - acc: 0.8058 - val_loss: 0.4103 - val_acc: 0.7793\n",
      "Epoch 6/100\n",
      " - 0s - loss: 0.3372 - acc: 0.8337 - val_loss: 0.3767 - val_acc: 0.8478\n",
      "Epoch 7/100\n",
      " - 0s - loss: 0.2986 - acc: 0.9084 - val_loss: 0.3455 - val_acc: 0.8880\n",
      "Epoch 8/100\n",
      " - 0s - loss: 0.2644 - acc: 0.9353 - val_loss: 0.3165 - val_acc: 0.9065\n",
      "Epoch 9/100\n",
      " - 0s - loss: 0.2332 - acc: 0.9490 - val_loss: 0.2882 - val_acc: 0.9179\n",
      "Epoch 10/100\n",
      " - 0s - loss: 0.2030 - acc: 0.9579 - val_loss: 0.2626 - val_acc: 0.9293\n",
      "Epoch 11/100\n",
      " - 0s - loss: 0.1768 - acc: 0.9640 - val_loss: 0.2364 - val_acc: 0.9310\n",
      "Epoch 12/100\n",
      " - 0s - loss: 0.1520 - acc: 0.9690 - val_loss: 0.2157 - val_acc: 0.9386\n",
      "Epoch 13/100\n",
      " - 0s - loss: 0.1311 - acc: 0.9734 - val_loss: 0.1983 - val_acc: 0.9457\n",
      "Epoch 14/100\n",
      " - 0s - loss: 0.1120 - acc: 0.9766 - val_loss: 0.1871 - val_acc: 0.9478\n",
      "Epoch 15/100\n",
      " - 0s - loss: 0.0963 - acc: 0.9799 - val_loss: 0.1724 - val_acc: 0.9495\n",
      "Epoch 16/100\n",
      " - 0s - loss: 0.0842 - acc: 0.9821 - val_loss: 0.1644 - val_acc: 0.9516\n",
      "Epoch 17/100\n",
      " - 0s - loss: 0.0742 - acc: 0.9851 - val_loss: 0.1605 - val_acc: 0.9516\n",
      "Epoch 18/100\n",
      " - 0s - loss: 0.0665 - acc: 0.9864 - val_loss: 0.1559 - val_acc: 0.9549\n",
      "Epoch 19/100\n",
      " - 0s - loss: 0.0589 - acc: 0.9882 - val_loss: 0.1559 - val_acc: 0.9560\n",
      "Epoch 20/100\n",
      " - 0s - loss: 0.0537 - acc: 0.9886 - val_loss: 0.1615 - val_acc: 0.9543\n",
      "Epoch 21/100\n",
      " - 0s - loss: 0.0465 - acc: 0.9901 - val_loss: 0.1625 - val_acc: 0.9522\n",
      "Epoch 22/100\n",
      " - 0s - loss: 0.0414 - acc: 0.9914 - val_loss: 0.1647 - val_acc: 0.9538\n",
      "Epoch 23/100\n",
      " - 0s - loss: 0.0392 - acc: 0.9920 - val_loss: 0.1665 - val_acc: 0.9538\n",
      "Epoch 24/100\n",
      " - 0s - loss: 0.0347 - acc: 0.9935 - val_loss: 0.1641 - val_acc: 0.9565\n",
      "Epoch 25/100\n",
      " - 0s - loss: 0.0324 - acc: 0.9939 - val_loss: 0.1721 - val_acc: 0.9543\n",
      "Epoch 26/100\n",
      " - 0s - loss: 0.0304 - acc: 0.9946 - val_loss: 0.1709 - val_acc: 0.9554\n",
      "Epoch 27/100\n",
      " - 0s - loss: 0.0284 - acc: 0.9946 - val_loss: 0.1714 - val_acc: 0.9549\n",
      "Epoch 28/100\n",
      " - 0s - loss: 0.0261 - acc: 0.9958 - val_loss: 0.1756 - val_acc: 0.9549\n",
      "Epoch 29/100\n",
      " - 0s - loss: 0.0255 - acc: 0.9958 - val_loss: 0.1804 - val_acc: 0.9533\n",
      "Epoch 30/100\n",
      " - 0s - loss: 0.0250 - acc: 0.9957 - val_loss: 0.1743 - val_acc: 0.9554\n",
      "Epoch 31/100\n",
      " - 0s - loss: 0.0239 - acc: 0.9962 - val_loss: 0.1760 - val_acc: 0.9554\n",
      "Epoch 32/100\n",
      " - 0s - loss: 0.0235 - acc: 0.9963 - val_loss: 0.1867 - val_acc: 0.9538\n",
      "Epoch 33/100\n",
      " - 0s - loss: 0.0228 - acc: 0.9965 - val_loss: 0.1776 - val_acc: 0.9582\n",
      "Epoch 34/100\n",
      " - 0s - loss: 0.0224 - acc: 0.9963 - val_loss: 0.1863 - val_acc: 0.9571\n",
      "Epoch 35/100\n",
      " - 0s - loss: 0.0217 - acc: 0.9965 - val_loss: 0.1752 - val_acc: 0.9582\n",
      "Epoch 36/100\n",
      " - 0s - loss: 0.0197 - acc: 0.9971 - val_loss: 0.1796 - val_acc: 0.9582\n",
      "Epoch 37/100\n",
      " - 0s - loss: 0.0213 - acc: 0.9966 - val_loss: 0.1756 - val_acc: 0.9598\n",
      "Epoch 38/100\n",
      " - 0s - loss: 0.0193 - acc: 0.9967 - val_loss: 0.1773 - val_acc: 0.9603\n",
      "Epoch 39/100\n",
      " - 0s - loss: 0.0190 - acc: 0.9970 - val_loss: 0.1930 - val_acc: 0.9582\n",
      "Epoch 40/100\n",
      " - 0s - loss: 0.0192 - acc: 0.9966 - val_loss: 0.1895 - val_acc: 0.9587\n",
      "Epoch 41/100\n",
      " - 0s - loss: 0.0177 - acc: 0.9971 - val_loss: 0.1897 - val_acc: 0.9587\n",
      "Epoch 42/100\n",
      " - 0s - loss: 0.0170 - acc: 0.9976 - val_loss: 0.1829 - val_acc: 0.9603\n",
      "Epoch 43/100\n",
      " - 0s - loss: 0.0176 - acc: 0.9971 - val_loss: 0.1843 - val_acc: 0.9620\n",
      "Epoch 44/100\n",
      " - 0s - loss: 0.0159 - acc: 0.9977 - val_loss: 0.1917 - val_acc: 0.9609\n",
      "Epoch 45/100\n",
      " - 0s - loss: 0.0166 - acc: 0.9971 - val_loss: 0.1939 - val_acc: 0.9592\n",
      "Epoch 46/100\n",
      " - 0s - loss: 0.0156 - acc: 0.9977 - val_loss: 0.1897 - val_acc: 0.9592\n",
      "Epoch 47/100\n",
      " - 0s - loss: 0.0165 - acc: 0.9971 - val_loss: 0.1929 - val_acc: 0.9609\n",
      "Epoch 48/100\n",
      " - 0s - loss: 0.0147 - acc: 0.9978 - val_loss: 0.1902 - val_acc: 0.9592\n",
      "Epoch 49/100\n",
      " - 0s - loss: 0.0148 - acc: 0.9977 - val_loss: 0.1940 - val_acc: 0.9598\n",
      "Epoch 50/100\n",
      " - 0s - loss: 0.0153 - acc: 0.9974 - val_loss: 0.1880 - val_acc: 0.9620\n",
      "Epoch 51/100\n",
      " - 0s - loss: 0.0143 - acc: 0.9978 - val_loss: 0.1772 - val_acc: 0.9609\n",
      "Epoch 52/100\n",
      " - 0s - loss: 0.0144 - acc: 0.9976 - val_loss: 0.1828 - val_acc: 0.9614\n",
      "Epoch 53/100\n",
      " - 0s - loss: 0.0142 - acc: 0.9976 - val_loss: 0.1875 - val_acc: 0.9620\n",
      "Epoch 54/100\n",
      " - 0s - loss: 0.0137 - acc: 0.9977 - val_loss: 0.1877 - val_acc: 0.9620\n",
      "Epoch 55/100\n",
      " - 0s - loss: 0.0141 - acc: 0.9976 - val_loss: 0.1861 - val_acc: 0.9614\n",
      "Epoch 56/100\n",
      " - 0s - loss: 0.0126 - acc: 0.9980 - val_loss: 0.1856 - val_acc: 0.9614\n",
      "Epoch 57/100\n",
      " - 0s - loss: 0.0138 - acc: 0.9976 - val_loss: 0.1798 - val_acc: 0.9630\n",
      "Epoch 58/100\n",
      " - 0s - loss: 0.0120 - acc: 0.9978 - val_loss: 0.1860 - val_acc: 0.9620\n",
      "Epoch 59/100\n",
      " - 0s - loss: 0.0122 - acc: 0.9978 - val_loss: 0.1905 - val_acc: 0.9609\n",
      "Epoch 60/100\n",
      " - 0s - loss: 0.0108 - acc: 0.9982 - val_loss: 0.1894 - val_acc: 0.9592\n",
      "Epoch 61/100\n",
      " - 0s - loss: 0.0108 - acc: 0.9981 - val_loss: 0.1956 - val_acc: 0.9614\n",
      "Epoch 62/100\n",
      " - 0s - loss: 0.0099 - acc: 0.9984 - val_loss: 0.1935 - val_acc: 0.9603\n",
      "Epoch 63/100\n",
      " - 0s - loss: 0.0098 - acc: 0.9984 - val_loss: 0.1927 - val_acc: 0.9641\n",
      "Epoch 64/100\n",
      " - 0s - loss: 0.0095 - acc: 0.9984 - val_loss: 0.1917 - val_acc: 0.9625\n",
      "Epoch 65/100\n",
      " - 0s - loss: 0.0091 - acc: 0.9981 - val_loss: 0.1969 - val_acc: 0.9630\n",
      "Epoch 66/100\n",
      " - 0s - loss: 0.0087 - acc: 0.9982 - val_loss: 0.1935 - val_acc: 0.9647\n",
      "Epoch 67/100\n",
      " - 0s - loss: 0.0095 - acc: 0.9982 - val_loss: 0.2071 - val_acc: 0.9592\n",
      "Epoch 68/100\n",
      " - 0s - loss: 0.0090 - acc: 0.9982 - val_loss: 0.1977 - val_acc: 0.9636\n",
      "Epoch 69/100\n",
      " - 0s - loss: 0.0079 - acc: 0.9985 - val_loss: 0.2070 - val_acc: 0.9636\n",
      "Epoch 70/100\n",
      " - 0s - loss: 0.0080 - acc: 0.9984 - val_loss: 0.2074 - val_acc: 0.9630\n",
      "Epoch 71/100\n",
      " - 0s - loss: 0.0084 - acc: 0.9981 - val_loss: 0.2168 - val_acc: 0.9598\n",
      "Epoch 72/100\n",
      " - 0s - loss: 0.0083 - acc: 0.9984 - val_loss: 0.2151 - val_acc: 0.9598\n",
      "Epoch 73/100\n",
      " - 0s - loss: 0.0079 - acc: 0.9982 - val_loss: 0.2159 - val_acc: 0.9609\n",
      "Epoch 74/100\n",
      " - 0s - loss: 0.0088 - acc: 0.9981 - val_loss: 0.2199 - val_acc: 0.9598\n",
      "Epoch 75/100\n",
      " - 0s - loss: 0.0095 - acc: 0.9980 - val_loss: 0.2123 - val_acc: 0.9598\n",
      "Epoch 76/100\n",
      " - 0s - loss: 0.0072 - acc: 0.9984 - val_loss: 0.2202 - val_acc: 0.9592\n",
      "Epoch 77/100\n",
      " - 0s - loss: 0.0074 - acc: 0.9981 - val_loss: 0.2225 - val_acc: 0.9614\n",
      "Epoch 78/100\n",
      " - 0s - loss: 0.0068 - acc: 0.9984 - val_loss: 0.2130 - val_acc: 0.9620\n",
      "Epoch 79/100\n",
      " - 0s - loss: 0.0063 - acc: 0.9982 - val_loss: 0.2285 - val_acc: 0.9592\n",
      "Epoch 80/100\n",
      " - 0s - loss: 0.0068 - acc: 0.9984 - val_loss: 0.2156 - val_acc: 0.9614\n",
      "Epoch 81/100\n",
      " - 0s - loss: 0.0059 - acc: 0.9985 - val_loss: 0.2185 - val_acc: 0.9614\n",
      "Epoch 82/100\n",
      " - 0s - loss: 0.0063 - acc: 0.9982 - val_loss: 0.2196 - val_acc: 0.9620\n",
      "Epoch 83/100\n",
      " - 0s - loss: 0.0056 - acc: 0.9986 - val_loss: 0.2257 - val_acc: 0.9603\n",
      "Epoch 84/100\n",
      " - 0s - loss: 0.0062 - acc: 0.9985 - val_loss: 0.2305 - val_acc: 0.9614\n",
      "Epoch 85/100\n",
      " - 0s - loss: 0.0072 - acc: 0.9981 - val_loss: 0.2318 - val_acc: 0.9614\n",
      "Epoch 86/100\n",
      " - 0s - loss: 0.0060 - acc: 0.9984 - val_loss: 0.2212 - val_acc: 0.9625\n"
     ]
    },
    {
     "name": "stdout",
     "output_type": "stream",
     "text": [
      "Epoch 87/100\n",
      " - 0s - loss: 0.0052 - acc: 0.9986 - val_loss: 0.2337 - val_acc: 0.9620\n",
      "Epoch 88/100\n",
      " - 0s - loss: 0.0060 - acc: 0.9982 - val_loss: 0.2359 - val_acc: 0.9614\n",
      "Epoch 89/100\n",
      " - 0s - loss: 0.0050 - acc: 0.9986 - val_loss: 0.2384 - val_acc: 0.9603\n",
      "Epoch 90/100\n",
      " - 0s - loss: 0.0059 - acc: 0.9984 - val_loss: 0.2268 - val_acc: 0.9620\n",
      "Epoch 91/100\n",
      " - 0s - loss: 0.0058 - acc: 0.9982 - val_loss: 0.2420 - val_acc: 0.9603\n",
      "Epoch 92/100\n",
      " - 0s - loss: 0.0054 - acc: 0.9984 - val_loss: 0.2306 - val_acc: 0.9609\n",
      "Epoch 93/100\n",
      " - 0s - loss: 0.0057 - acc: 0.9982 - val_loss: 0.2413 - val_acc: 0.9603\n",
      "Epoch 94/100\n",
      " - 0s - loss: 0.0052 - acc: 0.9985 - val_loss: 0.2423 - val_acc: 0.9614\n",
      "Epoch 95/100\n",
      " - 0s - loss: 0.0050 - acc: 0.9985 - val_loss: 0.2458 - val_acc: 0.9598\n",
      "Epoch 96/100\n",
      " - 0s - loss: 0.0059 - acc: 0.9982 - val_loss: 0.2481 - val_acc: 0.9576\n",
      "Epoch 97/100\n",
      " - 0s - loss: 0.0067 - acc: 0.9978 - val_loss: 0.2594 - val_acc: 0.9576\n",
      "Epoch 98/100\n",
      " - 0s - loss: 0.0048 - acc: 0.9985 - val_loss: 0.2610 - val_acc: 0.9592\n",
      "Epoch 99/100\n",
      " - 0s - loss: 0.0047 - acc: 0.9986 - val_loss: 0.2634 - val_acc: 0.9576\n",
      "Epoch 100/100\n",
      " - 0s - loss: 0.0065 - acc: 0.9980 - val_loss: 0.2395 - val_acc: 0.9587\n",
      "第五步：计算最后得分和精度\n",
      "2300/2300 [==============================] - 2s 1ms/step\n",
      "测试得分: 0.24310090230525416\n",
      "测试精度: 0.9604347944259644\n"
     ]
    }
   ],
   "source": [
    "\"\"\"\n",
    "第二步：\n",
    "将把数据准备成神经网络可以接受的形式。\n",
    "首先解析数据，\n",
    "然后标准化值，\n",
    "最后创建目标数组\n",
    "\"\"\"\n",
    "# 创建df1来保存波形数据点(waveform data points) \n",
    "df1 = df.drop([\"seizure\", \"y\"], axis=1)\n",
    "\"\"\"\n",
    "将数据部分转换为11500 *178形式，并设置数据类型为float64\n",
    "\"\"\"\n",
    "wave=np.array(df1,dtype=np.float64)\n",
    "mean = wave.mean(axis=0) \n",
    "wave -= mean \n",
    "std = wave.std(axis=0)\n",
    "wave /= std \n",
    "# 3. 创建目标数组\n",
    "target = df[\"seizure\"].values\n",
    "\n",
    "\"\"\"\n",
    "第三步：构建训练模型\n",
    "\"\"\"\n",
    "print('第三步：构建模型')\n",
    "\n",
    "model = Sequential()\n",
    "model.add(LSTM(10, return_sequences = True, input_shape=(None, 178)))\n",
    "model.add(LSTM(10, return_sequences = True))\n",
    "model.add(LSTM(5))\n",
    "model.add(Dense(1, activation = 'sigmoid'))\n",
    "\n",
    "model.summary() \n",
    "\n",
    "\n",
    "\"\"\"\n",
    "利用sklearn的train_test_split函数将所有的数据的20%作为测试集，其他的作为训练集\n",
    "\"\"\"\n",
    "train_X, test_X, y_train, y_test = train_test_split(wave, target, test_size=0.2, random_state=42)\n",
    "\n",
    "x_train = train_X.reshape(train_X.shape[0],1,train_X.shape[1])\n",
    "x_test = test_X.reshape(test_X.shape[0], 1, test_X.shape[1])\n",
    "\n",
    "#编译机器学习模型\n",
    "model.compile(optimizer=\"rmsprop\", loss=\"binary_crossentropy\", metrics=[\"acc\"])\n",
    "\n",
    "\n",
    "\"\"\"\n",
    "第四步：训练模型\n",
    "\"\"\"\n",
    "print('第四步：训练模型')\n",
    "\"\"\"\n",
    "训练模型\n",
    "epoch为100，\n",
    "batch_size为128，\n",
    "设置20%的数据集作为验证集\n",
    "\"\"\"\n",
    "history = model.fit(x_train, y_train, epochs=100, batch_size=128, validation_split=0.2, verbose=2)\n",
    "\n",
    "\n",
    "\n",
    "\"\"\"\n",
    "第五步：计算最后得分和精度\n",
    "\"\"\"\n",
    "print('第五步：计算最后得分和精度')\n",
    "score, acc = model.evaluate(x_test, y_test,\n",
    "                            batch_size=1)\n",
    "print('测试得分:', score)\n",
    "print('测试精度:', acc)"
   ]
  },
  {
   "cell_type": "markdown",
   "id": "263e325f",
   "metadata": {},
   "source": [
    "## 模型的评估可视化处理"
   ]
  },
  {
   "cell_type": "code",
   "execution_count": 12,
   "id": "2556809f",
   "metadata": {},
   "outputs": [
    {
     "data": {
      "image/png": "[encoded data removed]",
      "text/plain": [
       "<Figure size 432x288 with 1 Axes>"
      ]
     },
     "metadata": {
      "needs_background": "light"
     },
     "output_type": "display_data"
    }
   ],
   "source": [
    "# 测试数据(预测数据)\n",
    "y_pred = model.predict(x_test).ravel()\n",
    "# 计算ROC\n",
    "fpr_keras, tpr_keras, thresholds_keras = roc_curve(y_test, y_pred) \n",
    "# 计算 AUC\n",
    "AUC = auc(fpr_keras, tpr_keras)\n",
    "# 绘制 ROC曲线\n",
    "plt.plot(fpr_keras, tpr_keras, label='Keras Model(area = {:.3f})'.format(AUC)) \n",
    "plt.plot([0, 1], [0, 1], color='navy', linestyle='--')\n",
    "plt.xlabel('False positive Rate') \n",
    "plt.ylabel('True positive Rate') \n",
    "plt.title('ROC curve') \n",
    "plt.legend(loc='best') \n",
    "plt.show()\n"
   ]
  },
  {
   "cell_type": "markdown",
   "id": "d377f8ab",
   "metadata": {},
   "source": [
    "## 建模过程的可视化处理"
   ]
  },
  {
   "cell_type": "code",
   "execution_count": 13,
   "id": "36ae5cb9",
   "metadata": {},
   "outputs": [
    {
     "data": {
      "image/png": "[encoded data removed]",
      "text/plain": [
       "<Figure size 432x288 with 1 Axes>"
      ]
     },
     "metadata": {
      "needs_background": "light"
     },
     "output_type": "display_data"
    }
   ],
   "source": [
    "#plot history\n",
    "plt.plot(history.history['loss'],label='Training loss')\n",
    "plt.plot(history.history['val_loss'], label='Validation loss')\n",
    "plt.title('Training and validation loss')\n",
    "plt.xlabel('Epochs')\n",
    "plt.ylabel('Loss')\n",
    "plt.legend()\n",
    "plt.show()\n",
    "\n"
   ]
  },
  {
   "cell_type": "code",
   "execution_count": null,
   "id": "a4aaf4b8",
   "metadata": {},
   "outputs": [],
   "source": []
  },
  {
   "cell_type": "code",
   "execution_count": 14,
   "id": "864a79e2",
   "metadata": {},
   "outputs": [
    {
     "data": {
      "image/png": "[encoded data removed]",
      "text/plain": [
       "<Figure size 432x288 with 1 Axes>"
      ]
     },
     "metadata": {
      "needs_background": "light"
     },
     "output_type": "display_data"
    }
   ],
   "source": [
    "#plot history\n",
    "plt.plot(history.history['acc'],label='Training acc')\n",
    "plt.plot(history.history['val_acc'], label='Validation acc')\n",
    "plt.title('Training and validation accuracy')\n",
    "plt.xlabel('Epochs')\n",
    "plt.ylabel('Acc')\n",
    "plt.legend()\n",
    "plt.show()"
   ]
  },
  {
   "cell_type": "code",
   "execution_count": null,
   "id": "611c948f",
   "metadata": {},
   "outputs": [],
   "source": []
  },
  {
   "cell_type": "code",
   "execution_count": 15,
   "id": "82018865",
   "metadata": {},
   "outputs": [
    {
     "data": {
      "text/plain": [
       "<matplotlib.legend.Legend at 0x2b6393f5400>"
      ]
     },
     "execution_count": 15,
     "metadata": {},
     "output_type": "execute_result"
    },
    {
     "data": {
      "image/png": "[encoded data removed]",
      "text/plain": [
       "<Figure size 432x288 with 1 Axes>"
      ]
     },
     "metadata": {
      "needs_background": "light"
     },
     "output_type": "display_data"
    }
   ],
   "source": [
    "plt.clf()\n",
    "\n",
    "history_dict = history.history\n",
    "history_dict.keys()\n",
    "\n",
    "loss_values = history_dict['loss']\n",
    "val_loss_values = history_dict['val_loss']\n",
    "epochs = range(1,len(loss_values)+1)\n",
    "plt.plot(epochs,loss_values,'g',label='Training loss')\n",
    "plt.plot(epochs,val_loss_values,'r',label='Validation loss')\n",
    "plt.title('Training and validation loss')\n",
    "plt.xlabel('Epochs')\n",
    "plt.ylabel('Loss')\n",
    "plt.legend()"
   ]
  },
  {
   "cell_type": "code",
   "execution_count": 16,
   "id": "de3bc228",
   "metadata": {},
   "outputs": [
    {
     "data": {
      "text/plain": [
       "<matplotlib.legend.Legend at 0x2b639461be0>"
      ]
     },
     "execution_count": 16,
     "metadata": {},
     "output_type": "execute_result"
    },
    {
     "data": {
      "image/png": "[encoded data removed]",
      "text/plain": [
       "<Figure size 432x288 with 1 Axes>"
      ]
     },
     "metadata": {
      "needs_background": "light"
     },
     "output_type": "display_data"
    }
   ],
   "source": [
    "plt.clf()\n",
    "acc_values = history_dict['acc']\n",
    "val_acc_values = history_dict['val_acc']\n",
    "\n",
    "plt.plot(epochs,acc_values,'r',label='Training acc')\n",
    "plt.plot(epochs,val_acc_values,'b',label='Validation acc')\n",
    "plt.title('Training and validation accuracy')\n",
    "plt.xlabel('Epochs')\n",
    "plt.ylabel('Acc')\n",
    "plt.legend()"
   ]
  },
  {
   "cell_type": "markdown",
   "id": "130249d5",
   "metadata": {},
   "source": [
    "## 参考文献reference"
   ]
  },
  {
   "cell_type": "markdown",
   "id": "093ea369",
   "metadata": {},
   "source": [
    "Fused CNN-LSTM deep learning emotion recognition model using electroencephalography signals\n",
    "\n",
    "Transfer Learning of Deep Spatiotemporal Networks to Model Arbitrarily Long Videos of Seizures\n",
    "\n",
    "Adversarial representation learning for robust patient-independent epileptic seizure detection\n"
   ]
  },
  {
   "cell_type": "code",
   "execution_count": null,
   "id": "f43ba963",
   "metadata": {},
   "outputs": [],
   "source": []
  }
 ],
 "metadata": {
  "kernelspec": {
   "display_name": "Python 3",
   "language": "python",
   "name": "python3"
  },
  "language_info": {
   "codemirror_mode": {
    "name": "ipython",
    "version": 3
   },
   "file_extension": ".py",
   "mimetype": "text/x-python",
   "name": "python",
   "nbconvert_exporter": "python",
   "pygments_lexer": "ipython3",
   "version": "3.6.13"
  },
  "toc": {
   "base_numbering": 1,
   "nav_menu": {},
   "number_sections": true,
   "sideBar": true,
   "skip_h1_title": false,
   "title_cell": "Table of Contents",
   "title_sidebar": "Contents",
   "toc_cell": false,
   "toc_position": {},
   "toc_section_display": true,
   "toc_window_display": false
  }
 },
 "nbformat": 4,
 "nbformat_minor": 5
}
